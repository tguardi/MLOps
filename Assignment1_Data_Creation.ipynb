{
  "nbformat": 4,
  "nbformat_minor": 0,
  "metadata": {
    "kernelspec": {
      "display_name": "Python 3",
      "language": "python",
      "name": "python3"
    },
    "language_info": {
      "codemirror_mode": {
        "name": "ipython",
        "version": 3
      },
      "file_extension": ".py",
      "mimetype": "text/x-python",
      "name": "python",
      "nbconvert_exporter": "python",
      "pygments_lexer": "ipython3",
      "version": "3.7.4"
    },
    "toc": {
      "base_numbering": 1,
      "nav_menu": {},
      "number_sections": false,
      "sideBar": true,
      "skip_h1_title": false,
      "title_cell": "Table of Contents",
      "title_sidebar": "Contents",
      "toc_cell": false,
      "toc_position": {},
      "toc_section_display": true,
      "toc_window_display": true
    },
    "varInspector": {
      "cols": {
        "lenName": 16,
        "lenType": 16,
        "lenVar": 40
      },
      "kernels_config": {
        "python": {
          "delete_cmd_postfix": "",
          "delete_cmd_prefix": "del ",
          "library": "var_list.py",
          "varRefreshCmd": "print(var_dic_list())"
        },
        "r": {
          "delete_cmd_postfix": ") ",
          "delete_cmd_prefix": "rm(",
          "library": "var_list.r",
          "varRefreshCmd": "cat(var_dic_list()) "
        }
      },
      "position": {
        "height": "830.969px",
        "left": "983px",
        "right": "20px",
        "top": "73px",
        "width": "594.938px"
      },
      "types_to_exclude": [
        "module",
        "function",
        "builtin_function_or_method",
        "instance",
        "_Feature"
      ],
      "window_display": false
    },
    "colab": {
      "name": "Assignment1_Data_Creation.ipynb",
      "provenance": [],
      "collapsed_sections": [],
      "include_colab_link": true
    }
  },
  "cells": [
    {
      "cell_type": "markdown",
      "metadata": {
        "id": "view-in-github",
        "colab_type": "text"
      },
      "source": [
        "<a href=\"https://colab.research.google.com/github/tguardi/clearml/blob/main/Assignment1_Data_Creation.ipynb\" target=\"_parent\"><img src=\"https://colab.research.google.com/assets/colab-badge.svg\" alt=\"Open In Colab\"/></a>"
      ]
    },
    {
      "cell_type": "markdown",
      "metadata": {
        "id": "Iljf7sDXgGXt"
      },
      "source": [
        "# MLOps\n",
        "\n",
        "**Assignment 1: Data Versioning using clear.ml**\n",
        "\n",
        "#This Notebook builds out 3 datasets (dirty, clean, transformed) and train/test splits them for future modeling##"
      ]
    },
    {
      "cell_type": "markdown",
      "metadata": {
        "id": "zjpPJgutgGX1"
      },
      "source": [
        "#  Step 1: Import and make dataset dirty"
      ]
    },
    {
      "cell_type": "markdown",
      "metadata": {
        "id": "mLtKiIsegGX3"
      },
      "source": [
        "Import libraries"
      ]
    },
    {
      "cell_type": "code",
      "metadata": {
        "id": "jF53YTVTgGX4"
      },
      "source": [
        "import pandas as pd\n",
        "import numpy as np\n",
        "import sklearn\n",
        "import matplotlib.pyplot as plt\n",
        "from sklearn.model_selection import train_test_split\n",
        "import pickle"
      ],
      "execution_count": 33,
      "outputs": []
    },
    {
      "cell_type": "markdown",
      "metadata": {
        "id": "BcqQqdXYgGX5"
      },
      "source": [
        "b) Read in the data"
      ]
    },
    {
      "cell_type": "code",
      "metadata": {
        "colab": {
          "base_uri": "https://localhost:8080/"
        },
        "id": "hnzUbnVohW_Z",
        "outputId": "a6d3696f-3521-4cfa-d2d2-2cc0aff8a20b"
      },
      "source": [
        "from google.colab import drive\n",
        "drive.mount('/content/drive')"
      ],
      "execution_count": 7,
      "outputs": [
        {
          "output_type": "stream",
          "text": [
            "Drive already mounted at /content/drive; to attempt to forcibly remount, call drive.mount(\"/content/drive\", force_remount=True).\n"
          ],
          "name": "stdout"
        }
      ]
    },
    {
      "cell_type": "code",
      "metadata": {
        "id": "pQEwZkhBSzVo"
      },
      "source": [
        "# enter your drive here\n",
        "#path = \"/content/drive/MyDrive/3 MScA/16. MLOps/Assignment1Data/2019.csv\"\n",
        "path = \"/content/drive/MyDrive/Assignment1Data/2019.csv\""
      ],
      "execution_count": 8,
      "outputs": []
    },
    {
      "cell_type": "code",
      "metadata": {
        "id": "FXaZRHJzgGX7"
      },
      "source": [
        "df = pd.read_csv(path)"
      ],
      "execution_count": 9,
      "outputs": []
    },
    {
      "cell_type": "code",
      "metadata": {
        "colab": {
          "base_uri": "https://localhost:8080/",
          "height": 221
        },
        "id": "XpNstmTmgGX8",
        "outputId": "ddec2a54-9e0d-4528-f61c-efae4dbb6419"
      },
      "source": [
        "df.head()"
      ],
      "execution_count": 10,
      "outputs": [
        {
          "output_type": "execute_result",
          "data": {
            "text/html": [
              "<div>\n",
              "<style scoped>\n",
              "    .dataframe tbody tr th:only-of-type {\n",
              "        vertical-align: middle;\n",
              "    }\n",
              "\n",
              "    .dataframe tbody tr th {\n",
              "        vertical-align: top;\n",
              "    }\n",
              "\n",
              "    .dataframe thead th {\n",
              "        text-align: right;\n",
              "    }\n",
              "</style>\n",
              "<table border=\"1\" class=\"dataframe\">\n",
              "  <thead>\n",
              "    <tr style=\"text-align: right;\">\n",
              "      <th></th>\n",
              "      <th>Overall rank</th>\n",
              "      <th>Country or region</th>\n",
              "      <th>Score</th>\n",
              "      <th>GDP per capita</th>\n",
              "      <th>Social support</th>\n",
              "      <th>Healthy life expectancy</th>\n",
              "      <th>Freedom to make life choices</th>\n",
              "      <th>Generosity</th>\n",
              "      <th>Perceptions of corruption</th>\n",
              "    </tr>\n",
              "  </thead>\n",
              "  <tbody>\n",
              "    <tr>\n",
              "      <th>0</th>\n",
              "      <td>1</td>\n",
              "      <td>Finland</td>\n",
              "      <td>7.769</td>\n",
              "      <td>1.340</td>\n",
              "      <td>1.587</td>\n",
              "      <td>0.986</td>\n",
              "      <td>0.596</td>\n",
              "      <td>0.153</td>\n",
              "      <td>0.393</td>\n",
              "    </tr>\n",
              "    <tr>\n",
              "      <th>1</th>\n",
              "      <td>2</td>\n",
              "      <td>Denmark</td>\n",
              "      <td>7.600</td>\n",
              "      <td>1.383</td>\n",
              "      <td>1.573</td>\n",
              "      <td>0.996</td>\n",
              "      <td>0.592</td>\n",
              "      <td>0.252</td>\n",
              "      <td>0.410</td>\n",
              "    </tr>\n",
              "    <tr>\n",
              "      <th>2</th>\n",
              "      <td>3</td>\n",
              "      <td>Norway</td>\n",
              "      <td>7.554</td>\n",
              "      <td>1.488</td>\n",
              "      <td>1.582</td>\n",
              "      <td>1.028</td>\n",
              "      <td>0.603</td>\n",
              "      <td>0.271</td>\n",
              "      <td>0.341</td>\n",
              "    </tr>\n",
              "    <tr>\n",
              "      <th>3</th>\n",
              "      <td>4</td>\n",
              "      <td>Iceland</td>\n",
              "      <td>7.494</td>\n",
              "      <td>1.380</td>\n",
              "      <td>1.624</td>\n",
              "      <td>1.026</td>\n",
              "      <td>0.591</td>\n",
              "      <td>0.354</td>\n",
              "      <td>0.118</td>\n",
              "    </tr>\n",
              "    <tr>\n",
              "      <th>4</th>\n",
              "      <td>5</td>\n",
              "      <td>Netherlands</td>\n",
              "      <td>7.488</td>\n",
              "      <td>1.396</td>\n",
              "      <td>1.522</td>\n",
              "      <td>0.999</td>\n",
              "      <td>0.557</td>\n",
              "      <td>0.322</td>\n",
              "      <td>0.298</td>\n",
              "    </tr>\n",
              "  </tbody>\n",
              "</table>\n",
              "</div>"
            ],
            "text/plain": [
              "   Overall rank Country or region  ...  Generosity  Perceptions of corruption\n",
              "0             1           Finland  ...       0.153                      0.393\n",
              "1             2           Denmark  ...       0.252                      0.410\n",
              "2             3            Norway  ...       0.271                      0.341\n",
              "3             4           Iceland  ...       0.354                      0.118\n",
              "4             5       Netherlands  ...       0.322                      0.298\n",
              "\n",
              "[5 rows x 9 columns]"
            ]
          },
          "metadata": {
            "tags": []
          },
          "execution_count": 10
        }
      ]
    },
    {
      "cell_type": "code",
      "metadata": {
        "colab": {
          "base_uri": "https://localhost:8080/"
        },
        "id": "s5MdYZbZiP7G",
        "outputId": "4a6212bb-ad2d-4418-8da5-d0fd147d2748"
      },
      "source": [
        "df.info()"
      ],
      "execution_count": 11,
      "outputs": [
        {
          "output_type": "stream",
          "text": [
            "<class 'pandas.core.frame.DataFrame'>\n",
            "RangeIndex: 156 entries, 0 to 155\n",
            "Data columns (total 9 columns):\n",
            " #   Column                        Non-Null Count  Dtype  \n",
            "---  ------                        --------------  -----  \n",
            " 0   Overall rank                  156 non-null    int64  \n",
            " 1   Country or region             156 non-null    object \n",
            " 2   Score                         156 non-null    float64\n",
            " 3   GDP per capita                156 non-null    float64\n",
            " 4   Social support                156 non-null    float64\n",
            " 5   Healthy life expectancy       156 non-null    float64\n",
            " 6   Freedom to make life choices  156 non-null    float64\n",
            " 7   Generosity                    156 non-null    float64\n",
            " 8   Perceptions of corruption     156 non-null    float64\n",
            "dtypes: float64(7), int64(1), object(1)\n",
            "memory usage: 11.1+ KB\n"
          ],
          "name": "stdout"
        }
      ]
    },
    {
      "cell_type": "markdown",
      "metadata": {
        "id": "0rQBr7NZgGX9"
      },
      "source": [
        "Make data dirty"
      ]
    },
    {
      "cell_type": "code",
      "metadata": {
        "colab": {
          "base_uri": "https://localhost:8080/",
          "height": 221
        },
        "id": "mcCEfsjckG31",
        "outputId": "c9b251eb-6e6d-4d93-caf1-5ca6e8414bd1"
      },
      "source": [
        "dfDirty = df.copy()\n",
        "dfDirty.iloc[0] = dfDirty.iloc[0]*-1\n",
        "dfDirty.head(5)"
      ],
      "execution_count": 12,
      "outputs": [
        {
          "output_type": "execute_result",
          "data": {
            "text/html": [
              "<div>\n",
              "<style scoped>\n",
              "    .dataframe tbody tr th:only-of-type {\n",
              "        vertical-align: middle;\n",
              "    }\n",
              "\n",
              "    .dataframe tbody tr th {\n",
              "        vertical-align: top;\n",
              "    }\n",
              "\n",
              "    .dataframe thead th {\n",
              "        text-align: right;\n",
              "    }\n",
              "</style>\n",
              "<table border=\"1\" class=\"dataframe\">\n",
              "  <thead>\n",
              "    <tr style=\"text-align: right;\">\n",
              "      <th></th>\n",
              "      <th>Overall rank</th>\n",
              "      <th>Country or region</th>\n",
              "      <th>Score</th>\n",
              "      <th>GDP per capita</th>\n",
              "      <th>Social support</th>\n",
              "      <th>Healthy life expectancy</th>\n",
              "      <th>Freedom to make life choices</th>\n",
              "      <th>Generosity</th>\n",
              "      <th>Perceptions of corruption</th>\n",
              "    </tr>\n",
              "  </thead>\n",
              "  <tbody>\n",
              "    <tr>\n",
              "      <th>0</th>\n",
              "      <td>-1</td>\n",
              "      <td></td>\n",
              "      <td>-7.769</td>\n",
              "      <td>-1.340</td>\n",
              "      <td>-1.587</td>\n",
              "      <td>-0.986</td>\n",
              "      <td>-0.596</td>\n",
              "      <td>-0.153</td>\n",
              "      <td>-0.393</td>\n",
              "    </tr>\n",
              "    <tr>\n",
              "      <th>1</th>\n",
              "      <td>2</td>\n",
              "      <td>Denmark</td>\n",
              "      <td>7.600</td>\n",
              "      <td>1.383</td>\n",
              "      <td>1.573</td>\n",
              "      <td>0.996</td>\n",
              "      <td>0.592</td>\n",
              "      <td>0.252</td>\n",
              "      <td>0.410</td>\n",
              "    </tr>\n",
              "    <tr>\n",
              "      <th>2</th>\n",
              "      <td>3</td>\n",
              "      <td>Norway</td>\n",
              "      <td>7.554</td>\n",
              "      <td>1.488</td>\n",
              "      <td>1.582</td>\n",
              "      <td>1.028</td>\n",
              "      <td>0.603</td>\n",
              "      <td>0.271</td>\n",
              "      <td>0.341</td>\n",
              "    </tr>\n",
              "    <tr>\n",
              "      <th>3</th>\n",
              "      <td>4</td>\n",
              "      <td>Iceland</td>\n",
              "      <td>7.494</td>\n",
              "      <td>1.380</td>\n",
              "      <td>1.624</td>\n",
              "      <td>1.026</td>\n",
              "      <td>0.591</td>\n",
              "      <td>0.354</td>\n",
              "      <td>0.118</td>\n",
              "    </tr>\n",
              "    <tr>\n",
              "      <th>4</th>\n",
              "      <td>5</td>\n",
              "      <td>Netherlands</td>\n",
              "      <td>7.488</td>\n",
              "      <td>1.396</td>\n",
              "      <td>1.522</td>\n",
              "      <td>0.999</td>\n",
              "      <td>0.557</td>\n",
              "      <td>0.322</td>\n",
              "      <td>0.298</td>\n",
              "    </tr>\n",
              "  </tbody>\n",
              "</table>\n",
              "</div>"
            ],
            "text/plain": [
              "   Overall rank Country or region  ...  Generosity  Perceptions of corruption\n",
              "0            -1                    ...      -0.153                     -0.393\n",
              "1             2           Denmark  ...       0.252                      0.410\n",
              "2             3            Norway  ...       0.271                      0.341\n",
              "3             4           Iceland  ...       0.354                      0.118\n",
              "4             5       Netherlands  ...       0.322                      0.298\n",
              "\n",
              "[5 rows x 9 columns]"
            ]
          },
          "metadata": {
            "tags": []
          },
          "execution_count": 12
        }
      ]
    },
    {
      "cell_type": "markdown",
      "metadata": {
        "id": "cquN64r2gGYC"
      },
      "source": [
        "# Step 2: Initialize clear.ml project with dirty data, model, and version"
      ]
    },
    {
      "cell_type": "markdown",
      "metadata": {
        "id": "VkwyyXpcgGYE"
      },
      "source": [
        "Start using clear.ml with the dirty dataset and version the dataset."
      ]
    },
    {
      "cell_type": "code",
      "metadata": {
        "id": "rzO-Y2JnlIX1"
      },
      "source": [
        "# !pip install clearml"
      ],
      "execution_count": 58,
      "outputs": []
    },
    {
      "cell_type": "markdown",
      "metadata": {
        "id": "noAd8Auz-7as"
      },
      "source": [
        "# Input credentials from Nic's workspace"
      ]
    },
    {
      "cell_type": "code",
      "metadata": {
        "id": "T-LLRFxileL-"
      },
      "source": [
        "# !clearml-init"
      ],
      "execution_count": 59,
      "outputs": []
    },
    {
      "cell_type": "code",
      "metadata": {
        "colab": {
          "base_uri": "https://localhost:8080/"
        },
        "id": "syzLYewTgGYL",
        "outputId": "6d02c4e6-3926-414d-f9ed-8574ab4ec4d7"
      },
      "source": [
        "from clearml import Task\n",
        "task = Task.init(project_name=\"assignment1\", task_name=\"create_datasets\")"
      ],
      "execution_count": 19,
      "outputs": [
        {
          "output_type": "stream",
          "text": [
            "ClearML Task: created new task id=5670f78e38ef410792184ea3abf4b729\n",
            "ClearML results page: https://app.community.clear.ml/projects/16c95ffffed9471a9e4fa9bdc4582681/experiments/5670f78e38ef410792184ea3abf4b729/output/log\n"
          ],
          "name": "stdout"
        }
      ]
    },
    {
      "cell_type": "markdown",
      "metadata": {
        "id": "47xrcCvVMlDN"
      },
      "source": [
        "Save dirty dataset to local data folder"
      ]
    },
    {
      "cell_type": "code",
      "metadata": {
        "id": "uSrETLubMj7U"
      },
      "source": [
        "dfDirty.to_csv(\"/content/drive/MyDrive/Assignment1Data/dirty_data.csv\")"
      ],
      "execution_count": 20,
      "outputs": []
    },
    {
      "cell_type": "markdown",
      "metadata": {
        "id": "FyCL7lmjMTBf"
      },
      "source": [
        "Create clearml dirty dataset"
      ]
    },
    {
      "cell_type": "code",
      "metadata": {
        "id": "hlyqOKBtgGYO",
        "colab": {
          "base_uri": "https://localhost:8080/"
        },
        "outputId": "5580ebde-5a98-43d5-e776-3cdce010a604"
      },
      "source": [
        "# Do clear.ml magic e.g. version\n",
        "!clearml-data create --project assignment1 --name 'dirty_dataset'\n",
        "!clearml-data sync --folder /content/drive/MyDrive/Assignment1Data/dirty_data.csv"
      ],
      "execution_count": 36,
      "outputs": [
        {
          "output_type": "stream",
          "text": [
            "clearml-data - Dataset Management & Versioning CLI\n",
            "Creating a new dataset:\n",
            "New dataset created id=b758ecb7d7b043a095c7c92d1db99d57\n",
            "clearml-data - Dataset Management & Versioning CLI\n",
            "Syncing dataset id b758ecb7d7b043a095c7c92d1db99d57 to local folder /content/drive/MyDrive/Assignment1Data/dirty_data.csv\n",
            "Sync completed: 0 files removed, 1 added / modified\n",
            "Finalizing dataset\n",
            "Pending uploads, starting dataset upload to https://files.community.clear.ml\n",
            "Uploading compressed dataset changes (1 files, total 4.9 KB) to https://files.community.clear.ml\n",
            "Upload completed (4.9 KB)\n",
            "2021-04-16 19:18:19,075 - clearml.Task - INFO - Waiting to finish uploads\n",
            "2021-04-16 19:18:19,471 - clearml.Task - INFO - Finished uploading\n",
            "Dataset closed and finalized\n"
          ],
          "name": "stdout"
        }
      ]
    },
    {
      "cell_type": "markdown",
      "metadata": {
        "id": "Ucq-__neQ9SP"
      },
      "source": [
        "Reload dataset from clearml"
      ]
    },
    {
      "cell_type": "code",
      "metadata": {
        "id": "e-XO3Hu-Nrau"
      },
      "source": [
        "from clearml import Dataset\n",
        "\n",
        "dataset = Dataset.get(dataset_project='assignment1', dataset_name='dirty_dataset')"
      ],
      "execution_count": 37,
      "outputs": []
    },
    {
      "cell_type": "code",
      "metadata": {
        "id": "n6VqGszONtvD"
      },
      "source": [
        "dataset_folder = dataset.get_mutable_local_copy(target_folder = '/content/drive/MyDrive/working_dataset', overwrite=True)"
      ],
      "execution_count": 38,
      "outputs": []
    },
    {
      "cell_type": "code",
      "metadata": {
        "id": "yWIQn6bGOdCp"
      },
      "source": [
        "data = pd.read_csv(\"/content/drive/MyDrive/working_dataset/dirty_data.csv\")"
      ],
      "execution_count": 39,
      "outputs": []
    },
    {
      "cell_type": "markdown",
      "metadata": {
        "id": "E_1pnmgurxQX"
      },
      "source": [
        "Train Test Split\n",
        "\n",
        "__Target Variable: Healthy Life Expectancy__"
      ]
    },
    {
      "cell_type": "code",
      "metadata": {
        "id": "KOWihREEgGYV",
        "colab": {
          "base_uri": "https://localhost:8080/"
        },
        "outputId": "f70bb0bc-0aa4-4fcf-ba25-b2c83097859b"
      },
      "source": [
        "# predicdtors\n",
        "X = dfDirty[['GDP per capita',\n",
        "             'Social support',\n",
        "             'Freedom to make life choices', \n",
        "             'Generosity', \n",
        "             'Perceptions of corruption']]\n",
        "# target\n",
        "y = dfDirty['Healthy life expectancy']\n",
        "\n",
        "# train test split\n",
        "X_train, X_test, y_train, y_test = train_test_split(\n",
        "    X, y, test_size=0.2, random_state=426)\n",
        "\n",
        "# upload processed data\n",
        "# print('Uploading process dataset')\n",
        "# task.upload_artifact('X_train', X_train)\n",
        "# task.upload_artifact('X_test', X_test)\n",
        "# task.upload_artifact('y_train', y_train)\n",
        "# task.upload_artifact('y_test', y_test)\n",
        "# store the dataset split into a pickle file\n",
        "with open(dataset_folder + '/dirty_train.pkl', 'wb') as f:\n",
        "    pickle.dump([X_train, X_test, y_train, y_test], f)\n",
        "\n",
        "new_dataset = Dataset.create(\n",
        "    dataset_project='assignment1', dataset_name='dirty_data_split', parent_datasets=[dataset])\n",
        "new_dataset.sync_folder(local_path=dataset_folder)\n",
        "new_dataset.upload()\n",
        "new_dataset.finalize()"
      ],
      "execution_count": 40,
      "outputs": [
        {
          "output_type": "stream",
          "text": [
            "Generating SHA2 hash for 2 files\n",
            "Hash generation completed\n",
            "Uploading compressed dataset changes (1 files, total 4.74 KB) to https://files.community.clear.ml\n",
            "Upload completed (4.74 KB)\n",
            "2021-04-16 19:18:39,716 - clearml.Task - INFO - Waiting to finish uploads\n",
            "2021-04-16 19:18:40,098 - clearml.Task - INFO - Finished uploading\n"
          ],
          "name": "stdout"
        },
        {
          "output_type": "execute_result",
          "data": {
            "text/plain": [
              "True"
            ]
          },
          "metadata": {
            "tags": []
          },
          "execution_count": 40
        }
      ]
    },
    {
      "cell_type": "markdown",
      "metadata": {
        "id": "BN0SzvbsmTUH"
      },
      "source": [
        "# Build Clean"
      ]
    },
    {
      "cell_type": "code",
      "metadata": {
        "id": "WDQVpp50gGYY"
      },
      "source": [
        "# Reverse dirtying steps above\n",
        "dfClean = dfDirty.copy()\n",
        "dfClean.iloc[0] = dfClean.iloc[0]*-1"
      ],
      "execution_count": 41,
      "outputs": []
    },
    {
      "cell_type": "code",
      "metadata": {
        "id": "AZ_rR2ZPSJep"
      },
      "source": [
        "dfClean.to_csv(dataset_folder+\"/clean_data.csv\")"
      ],
      "execution_count": 42,
      "outputs": []
    },
    {
      "cell_type": "markdown",
      "metadata": {
        "id": "b43gFhWvgGYZ"
      },
      "source": [
        "Update the dataset version to go from dirty to clean dataset."
      ]
    },
    {
      "cell_type": "code",
      "metadata": {
        "id": "jdxITS-ygGYa",
        "colab": {
          "base_uri": "https://localhost:8080/"
        },
        "outputId": "24dc9bcf-33f6-4f67-9066-27a1ea10e9f4"
      },
      "source": [
        "# Do clear.ml magic e.g. version\n",
        "new_dataset = Dataset.create(dataset_project = 'assignment1', dataset_name = 'clean_dataset', parent_datasets=[dataset])\n",
        "new_dataset.sync_folder(local_path=dataset_folder)\n",
        "new_dataset.upload()\n",
        "new_dataset.finalize()"
      ],
      "execution_count": 43,
      "outputs": [
        {
          "output_type": "stream",
          "text": [
            "Generating SHA2 hash for 3 files\n",
            "Hash generation completed\n",
            "Uploading compressed dataset changes (2 files, total 9.6 KB) to https://files.community.clear.ml\n",
            "Upload completed (9.6 KB)\n",
            "2021-04-16 19:19:13,428 - clearml.Task - INFO - Waiting to finish uploads\n",
            "2021-04-16 19:19:13,805 - clearml.Task - INFO - Finished uploading\n"
          ],
          "name": "stdout"
        },
        {
          "output_type": "execute_result",
          "data": {
            "text/plain": [
              "True"
            ]
          },
          "metadata": {
            "tags": []
          },
          "execution_count": 43
        }
      ]
    },
    {
      "cell_type": "code",
      "metadata": {
        "id": "4cJi6muv12ww",
        "colab": {
          "base_uri": "https://localhost:8080/"
        },
        "outputId": "41ceb122-f815-49e1-aa48-1d3c7fe76d74"
      },
      "source": [
        "# predictors\n",
        "X = dfClean[['GDP per capita',\n",
        "             'Social support',\n",
        "             'Freedom to make life choices', \n",
        "             'Generosity', \n",
        "             'Perceptions of corruption']]\n",
        "# target\n",
        "y = dfClean['Healthy life expectancy']\n",
        "\n",
        "# train test split\n",
        "X_train, X_test, y_train, y_test = train_test_split(\n",
        "    X, y, test_size=0.2, random_state=426)\n",
        "\n",
        "with open(dataset_folder + '/clean_train.pkl', 'wb') as f:\n",
        "    pickle.dump([X_train, X_test, y_train, y_test], f)\n",
        "\n",
        "new_dataset = Dataset.create(\n",
        "    dataset_project='assignment1', dataset_name='clean_data_split', parent_datasets=[dataset])\n",
        "new_dataset.sync_folder(local_path=dataset_folder)\n",
        "new_dataset.upload()\n",
        "new_dataset.finalize()"
      ],
      "execution_count": 44,
      "outputs": [
        {
          "output_type": "stream",
          "text": [
            "Generating SHA2 hash for 4 files\n",
            "Hash generation completed\n",
            "Uploading compressed dataset changes (3 files, total 14.31 KB) to https://files.community.clear.ml\n",
            "Upload completed (14.31 KB)\n",
            "2021-04-16 19:22:55,913 - clearml.Task - INFO - Waiting to finish uploads\n",
            "2021-04-16 19:22:56,297 - clearml.Task - INFO - Finished uploading\n"
          ],
          "name": "stdout"
        },
        {
          "output_type": "execute_result",
          "data": {
            "text/plain": [
              "True"
            ]
          },
          "metadata": {
            "tags": []
          },
          "execution_count": 44
        }
      ]
    },
    {
      "cell_type": "markdown",
      "metadata": {
        "id": "HyB8iU5NgGYm"
      },
      "source": [
        "# Step 4: Transform, model, and version"
      ]
    },
    {
      "cell_type": "markdown",
      "metadata": {
        "id": "xApSbuXKgGYo"
      },
      "source": [
        "Transform the clean dataset using aggregation - call this the transformed dataset."
      ]
    },
    {
      "cell_type": "code",
      "metadata": {
        "colab": {
          "base_uri": "https://localhost:8080/",
          "height": 97
        },
        "id": "CG-GR4jOgGYB",
        "outputId": "07c13fe1-c514-4c63-b39c-ecb696c4d8eb"
      },
      "source": [
        "df['Social Generosity'] = df['Social support'] * df['Generosity']\n",
        "\n",
        "df.head(1)"
      ],
      "execution_count": 45,
      "outputs": [
        {
          "output_type": "execute_result",
          "data": {
            "text/html": [
              "<div>\n",
              "<style scoped>\n",
              "    .dataframe tbody tr th:only-of-type {\n",
              "        vertical-align: middle;\n",
              "    }\n",
              "\n",
              "    .dataframe tbody tr th {\n",
              "        vertical-align: top;\n",
              "    }\n",
              "\n",
              "    .dataframe thead th {\n",
              "        text-align: right;\n",
              "    }\n",
              "</style>\n",
              "<table border=\"1\" class=\"dataframe\">\n",
              "  <thead>\n",
              "    <tr style=\"text-align: right;\">\n",
              "      <th></th>\n",
              "      <th>Overall rank</th>\n",
              "      <th>Country or region</th>\n",
              "      <th>Score</th>\n",
              "      <th>GDP per capita</th>\n",
              "      <th>Social support</th>\n",
              "      <th>Healthy life expectancy</th>\n",
              "      <th>Freedom to make life choices</th>\n",
              "      <th>Generosity</th>\n",
              "      <th>Perceptions of corruption</th>\n",
              "      <th>Social Generosity</th>\n",
              "    </tr>\n",
              "  </thead>\n",
              "  <tbody>\n",
              "    <tr>\n",
              "      <th>0</th>\n",
              "      <td>1</td>\n",
              "      <td>Finland</td>\n",
              "      <td>7.769</td>\n",
              "      <td>1.34</td>\n",
              "      <td>1.587</td>\n",
              "      <td>0.986</td>\n",
              "      <td>0.596</td>\n",
              "      <td>0.153</td>\n",
              "      <td>0.393</td>\n",
              "      <td>0.242811</td>\n",
              "    </tr>\n",
              "  </tbody>\n",
              "</table>\n",
              "</div>"
            ],
            "text/plain": [
              "   Overall rank Country or region  ...  Perceptions of corruption  Social Generosity\n",
              "0             1           Finland  ...                      0.393           0.242811\n",
              "\n",
              "[1 rows x 10 columns]"
            ]
          },
          "metadata": {
            "tags": []
          },
          "execution_count": 45
        }
      ]
    },
    {
      "cell_type": "code",
      "metadata": {
        "colab": {
          "base_uri": "https://localhost:8080/",
          "height": 396
        },
        "id": "eSFKHMdIixxX",
        "outputId": "cdb3b139-0005-402b-f16b-2737ad6b726a"
      },
      "source": [
        "df.corr()"
      ],
      "execution_count": 46,
      "outputs": [
        {
          "output_type": "execute_result",
          "data": {
            "text/html": [
              "<div>\n",
              "<style scoped>\n",
              "    .dataframe tbody tr th:only-of-type {\n",
              "        vertical-align: middle;\n",
              "    }\n",
              "\n",
              "    .dataframe tbody tr th {\n",
              "        vertical-align: top;\n",
              "    }\n",
              "\n",
              "    .dataframe thead th {\n",
              "        text-align: right;\n",
              "    }\n",
              "</style>\n",
              "<table border=\"1\" class=\"dataframe\">\n",
              "  <thead>\n",
              "    <tr style=\"text-align: right;\">\n",
              "      <th></th>\n",
              "      <th>Overall rank</th>\n",
              "      <th>Score</th>\n",
              "      <th>GDP per capita</th>\n",
              "      <th>Social support</th>\n",
              "      <th>Healthy life expectancy</th>\n",
              "      <th>Freedom to make life choices</th>\n",
              "      <th>Generosity</th>\n",
              "      <th>Perceptions of corruption</th>\n",
              "      <th>Social Generosity</th>\n",
              "    </tr>\n",
              "  </thead>\n",
              "  <tbody>\n",
              "    <tr>\n",
              "      <th>Overall rank</th>\n",
              "      <td>1.000000</td>\n",
              "      <td>-0.989096</td>\n",
              "      <td>-0.801947</td>\n",
              "      <td>-0.767465</td>\n",
              "      <td>-0.787411</td>\n",
              "      <td>-0.546606</td>\n",
              "      <td>-0.047993</td>\n",
              "      <td>-0.351959</td>\n",
              "      <td>-0.417994</td>\n",
              "    </tr>\n",
              "    <tr>\n",
              "      <th>Score</th>\n",
              "      <td>-0.989096</td>\n",
              "      <td>1.000000</td>\n",
              "      <td>0.793883</td>\n",
              "      <td>0.777058</td>\n",
              "      <td>0.779883</td>\n",
              "      <td>0.566742</td>\n",
              "      <td>0.075824</td>\n",
              "      <td>0.385613</td>\n",
              "      <td>0.454490</td>\n",
              "    </tr>\n",
              "    <tr>\n",
              "      <th>GDP per capita</th>\n",
              "      <td>-0.801947</td>\n",
              "      <td>0.793883</td>\n",
              "      <td>1.000000</td>\n",
              "      <td>0.754906</td>\n",
              "      <td>0.835462</td>\n",
              "      <td>0.379079</td>\n",
              "      <td>-0.079662</td>\n",
              "      <td>0.298920</td>\n",
              "      <td>0.296515</td>\n",
              "    </tr>\n",
              "    <tr>\n",
              "      <th>Social support</th>\n",
              "      <td>-0.767465</td>\n",
              "      <td>0.777058</td>\n",
              "      <td>0.754906</td>\n",
              "      <td>1.000000</td>\n",
              "      <td>0.719009</td>\n",
              "      <td>0.447333</td>\n",
              "      <td>-0.048126</td>\n",
              "      <td>0.181899</td>\n",
              "      <td>0.425699</td>\n",
              "    </tr>\n",
              "    <tr>\n",
              "      <th>Healthy life expectancy</th>\n",
              "      <td>-0.787411</td>\n",
              "      <td>0.779883</td>\n",
              "      <td>0.835462</td>\n",
              "      <td>0.719009</td>\n",
              "      <td>1.000000</td>\n",
              "      <td>0.390395</td>\n",
              "      <td>-0.029511</td>\n",
              "      <td>0.295283</td>\n",
              "      <td>0.325495</td>\n",
              "    </tr>\n",
              "    <tr>\n",
              "      <th>Freedom to make life choices</th>\n",
              "      <td>-0.546606</td>\n",
              "      <td>0.566742</td>\n",
              "      <td>0.379079</td>\n",
              "      <td>0.447333</td>\n",
              "      <td>0.390395</td>\n",
              "      <td>1.000000</td>\n",
              "      <td>0.269742</td>\n",
              "      <td>0.438843</td>\n",
              "      <td>0.483154</td>\n",
              "    </tr>\n",
              "    <tr>\n",
              "      <th>Generosity</th>\n",
              "      <td>-0.047993</td>\n",
              "      <td>0.075824</td>\n",
              "      <td>-0.079662</td>\n",
              "      <td>-0.048126</td>\n",
              "      <td>-0.029511</td>\n",
              "      <td>0.269742</td>\n",
              "      <td>1.000000</td>\n",
              "      <td>0.326538</td>\n",
              "      <td>0.864530</td>\n",
              "    </tr>\n",
              "    <tr>\n",
              "      <th>Perceptions of corruption</th>\n",
              "      <td>-0.351959</td>\n",
              "      <td>0.385613</td>\n",
              "      <td>0.298920</td>\n",
              "      <td>0.181899</td>\n",
              "      <td>0.295283</td>\n",
              "      <td>0.438843</td>\n",
              "      <td>0.326538</td>\n",
              "      <td>1.000000</td>\n",
              "      <td>0.415001</td>\n",
              "    </tr>\n",
              "    <tr>\n",
              "      <th>Social Generosity</th>\n",
              "      <td>-0.417994</td>\n",
              "      <td>0.454490</td>\n",
              "      <td>0.296515</td>\n",
              "      <td>0.425699</td>\n",
              "      <td>0.325495</td>\n",
              "      <td>0.483154</td>\n",
              "      <td>0.864530</td>\n",
              "      <td>0.415001</td>\n",
              "      <td>1.000000</td>\n",
              "    </tr>\n",
              "  </tbody>\n",
              "</table>\n",
              "</div>"
            ],
            "text/plain": [
              "                              Overall rank  ...  Social Generosity\n",
              "Overall rank                      1.000000  ...          -0.417994\n",
              "Score                            -0.989096  ...           0.454490\n",
              "GDP per capita                   -0.801947  ...           0.296515\n",
              "Social support                   -0.767465  ...           0.425699\n",
              "Healthy life expectancy          -0.787411  ...           0.325495\n",
              "Freedom to make life choices     -0.546606  ...           0.483154\n",
              "Generosity                       -0.047993  ...           0.864530\n",
              "Perceptions of corruption        -0.351959  ...           0.415001\n",
              "Social Generosity                -0.417994  ...           1.000000\n",
              "\n",
              "[9 rows x 9 columns]"
            ]
          },
          "metadata": {
            "tags": []
          },
          "execution_count": 46
        }
      ]
    },
    {
      "cell_type": "code",
      "metadata": {
        "id": "WIjG-droVMAn"
      },
      "source": [
        "df.to_csv(dataset_folder+'/transformed_dataset.csv')"
      ],
      "execution_count": 47,
      "outputs": []
    },
    {
      "cell_type": "code",
      "metadata": {
        "id": "3dVXFRXRgGYp",
        "colab": {
          "base_uri": "https://localhost:8080/"
        },
        "outputId": "a76ddbc8-bf29-4748-85dd-3753310e5904"
      },
      "source": [
        "# Do clear.ml magic e.g. version\n",
        "new_dataset = Dataset.create(dataset_project = 'assignment1', dataset_name = 'transformed_dataset', parent_datasets=[dataset])\n",
        "new_dataset.sync_folder(local_path=dataset_folder)\n",
        "new_dataset.upload()\n",
        "new_dataset.finalize()"
      ],
      "execution_count": 48,
      "outputs": [
        {
          "output_type": "stream",
          "text": [
            "Generating SHA2 hash for 5 files\n",
            "Hash generation completed\n",
            "Uploading compressed dataset changes (4 files, total 20.01 KB) to https://files.community.clear.ml\n",
            "Upload completed (20.01 KB)\n",
            "2021-04-16 19:23:45,292 - clearml.Task - INFO - Waiting to finish uploads\n",
            "2021-04-16 19:23:45,680 - clearml.Task - INFO - Finished uploading\n"
          ],
          "name": "stdout"
        },
        {
          "output_type": "execute_result",
          "data": {
            "text/plain": [
              "True"
            ]
          },
          "metadata": {
            "tags": []
          },
          "execution_count": 48
        }
      ]
    },
    {
      "cell_type": "markdown",
      "metadata": {
        "id": "dHQoFq_AgGYr"
      },
      "source": [
        "Update the dataset version with the transformed dataset"
      ]
    },
    {
      "cell_type": "code",
      "metadata": {
        "id": "kJ7KmpZpgGYx"
      },
      "source": [
        "# Copy code from above"
      ],
      "execution_count": null,
      "outputs": []
    },
    {
      "cell_type": "markdown",
      "metadata": {
        "id": "85iY6ZVFgGY0"
      },
      "source": [
        "Build a machine learning model with the transformed dataset."
      ]
    },
    {
      "cell_type": "code",
      "metadata": {
        "id": "_Q9FY3o855vo",
        "colab": {
          "base_uri": "https://localhost:8080/"
        },
        "outputId": "c40ac88a-4783-4bc9-dcdc-e166e297d0b7"
      },
      "source": [
        "# predictors\n",
        "X = df[['GDP per capita',\n",
        "             'Social support',\n",
        "             'Freedom to make life choices', \n",
        "             'Generosity', \n",
        "             'Perceptions of corruption',\n",
        "             'Social Generosity']]\n",
        "# target\n",
        "y = df['Healthy life expectancy']\n",
        "\n",
        "# train test split\n",
        "X_train, X_test, y_train, y_test = train_test_split(\n",
        "    X, y, test_size=0.2, random_state=426)\n",
        "\n",
        "with open(dataset_folder + '/transformed_train.pkl', 'wb') as f:\n",
        "    pickle.dump([X_train, X_test, y_train, y_test], f)\n",
        "\n",
        "new_dataset = Dataset.create(\n",
        "    dataset_project='assignment1', dataset_name='transformed_data_split', parent_datasets=[dataset])\n",
        "new_dataset.sync_folder(local_path=dataset_folder)\n",
        "new_dataset.upload()\n",
        "new_dataset.finalize()"
      ],
      "execution_count": 49,
      "outputs": [
        {
          "output_type": "stream",
          "text": [
            "Generating SHA2 hash for 6 files\n",
            "Hash generation completed\n",
            "Uploading compressed dataset changes (5 files, total 25.96 KB) to https://files.community.clear.ml\n",
            "Upload completed (25.96 KB)\n",
            "2021-04-16 19:24:21,492 - clearml.Task - INFO - Waiting to finish uploads\n",
            "2021-04-16 19:24:21,882 - clearml.Task - INFO - Finished uploading\n"
          ],
          "name": "stdout"
        },
        {
          "output_type": "execute_result",
          "data": {
            "text/plain": [
              "True"
            ]
          },
          "metadata": {
            "tags": []
          },
          "execution_count": 49
        }
      ]
    },
    {
      "cell_type": "code",
      "metadata": {
        "colab": {
          "base_uri": "https://localhost:8080/"
        },
        "id": "IagUNC1zY4Rj",
        "outputId": "1bee4cf7-af37-4434-a003-a846b0476db0"
      },
      "source": [
        "Task.close"
      ],
      "execution_count": 52,
      "outputs": [
        {
          "output_type": "execute_result",
          "data": {
            "text/plain": [
              "<function clearml.task.Task.close>"
            ]
          },
          "metadata": {
            "tags": []
          },
          "execution_count": 52
        }
      ]
    },
    {
      "cell_type": "code",
      "metadata": {
        "colab": {
          "base_uri": "https://localhost:8080/"
        },
        "id": "WCofcvo-Y8By",
        "outputId": "0cdd4cf9-7b4a-4391-b070-bd402aff76c4"
      },
      "source": [
        "Task.current_task()"
      ],
      "execution_count": 57,
      "outputs": [
        {
          "output_type": "execute_result",
          "data": {
            "text/plain": [
              "<clearml.task.Task at 0x7fe37396d190>"
            ]
          },
          "metadata": {
            "tags": []
          },
          "execution_count": 57
        }
      ]
    },
    {
      "cell_type": "code",
      "metadata": {
        "id": "HYDQk-2gY650"
      },
      "source": [
        ""
      ],
      "execution_count": null,
      "outputs": []
    }
  ]
}